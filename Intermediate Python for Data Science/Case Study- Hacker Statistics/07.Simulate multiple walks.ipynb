{
 "cells": [
  {
   "cell_type": "markdown",
   "metadata": {},
   "source": [
    "Simulate multiple walks\n",
    "\n",
    "A single random walk is one thing, but that doesn't tell you if you have a good chance at winning the bet.\n",
    "\n",
    "To get an idea about how big your chances are of reaching 60 steps, you can repeatedly simulate the random walk and collect the results. That's exactly what you'll do in this exercise.\n",
    "\n",
    "The sample code already sets you off in the right direction. Another for loop is wrapped around the code you already wrote. It's up to you to add some bits and pieces to make sure all of the results are recorded correctly.\n",
    "\n",
    "Note: Don't change anything about the initialization of all_walks that is given. Setting any number inside the list will cause the exercise to crash!"
   ]
  },
  {
   "cell_type": "markdown",
   "metadata": {},
   "source": [
    "Fill in the specification of the for loop so that the random walk is simulated 10 times."
   ]
  },
  {
   "cell_type": "markdown",
   "metadata": {},
   "source": [
    "After the random_walk array is entirely populated, append the array to the all_walks list."
   ]
  },
  {
   "cell_type": "markdown",
   "metadata": {},
   "source": [
    "Finally, after the top-level for loop, print out all_walks."
   ]
  },
  {
   "cell_type": "code",
   "execution_count": 13,
   "metadata": {},
   "outputs": [
    {
     "name": "stdout",
     "output_type": "stream",
     "text": [
      "[[0, 3, 4, 5, 4, 5, 6, 7, 6, 5, 4], [0, 0, 0, 0, 0, 0, 1, 6, 5, 4, 5], [0, 0, 1, 2, 3, 4, 5, 4, 5, 4, 5], [0, 1, 2, 3, 2, 6, 7, 6, 7, 6, 7], [0, 1, 2, 3, 4, 5, 6, 9, 10, 11, 12], [0, 5, 6, 10, 11, 10, 11, 12, 11, 12, 13], [0, 2, 3, 4, 3, 2, 3, 4, 3, 2, 3], [0, 1, 3, 2, 1, 2, 1, 2, 3, 4, 6], [0, 0, 1, 2, 3, 4, 5, 4, 3, 4, 3], [0, 1, 2, 1, 4, 5, 6, 7, 6, 7, 8]]\n"
     ]
    }
   ],
   "source": [
    "# Numpy is imported; seed is set\n",
    "import numpy as np\n",
    "np.random.seed(123)\n",
    "\n",
    "# Initialize all_walks (don't change this line)\n",
    "all_walks = []\n",
    "\n",
    "# Simulate random walk 10 times\n",
    "for i in range(10) :\n",
    "\n",
    "    # Code from before\n",
    "    random_walk = [0]\n",
    "    for x in range(10) :\n",
    "        step = random_walk[-1]\n",
    "        dice = np.random.randint(1,7)\n",
    "\n",
    "        if dice <= 2:\n",
    "            step = max(0, step - 1)\n",
    "        elif dice <= 5:\n",
    "            step = step + 1\n",
    "        else:\n",
    "            step = step + np.random.randint(1,7)\n",
    "            \n",
    "         \n",
    "        random_walk.append(step)\n",
    "    \n",
    "    # Append random_walk to all_walks\n",
    "    all_walks.append(random_walk)\n",
    "# Print all_walks\n",
    "print(all_walks)"
   ]
  }
 ],
 "metadata": {
  "kernelspec": {
   "display_name": "Python 3",
   "language": "python",
   "name": "python3"
  },
  "language_info": {
   "codemirror_mode": {
    "name": "ipython",
    "version": 3
   },
   "file_extension": ".py",
   "mimetype": "text/x-python",
   "name": "python",
   "nbconvert_exporter": "python",
   "pygments_lexer": "ipython3",
   "version": "3.7.0"
  },
  "latex_envs": {
   "LaTeX_envs_menu_present": true,
   "autoclose": false,
   "autocomplete": true,
   "bibliofile": "biblio.bib",
   "cite_by": "apalike",
   "current_citInitial": 1,
   "eqLabelWithNumbers": true,
   "eqNumInitial": 1,
   "hotkeys": {
    "equation": "Ctrl-E",
    "itemize": "Ctrl-I"
   },
   "labels_anchors": false,
   "latex_user_defs": false,
   "report_style_numbering": false,
   "user_envs_cfg": false
  }
 },
 "nbformat": 4,
 "nbformat_minor": 2
}
