{
 "cells": [
  {
   "cell_type": "code",
   "execution_count": 6,
   "metadata": {},
   "outputs": [
    {
     "name": "stdout",
     "output_type": "stream",
     "text": [
      "0      en\n",
      "1      en\n",
      "2      et\n",
      "3      en\n",
      "4      en\n",
      "5      en\n",
      "6      en\n",
      "7      en\n",
      "8      en\n",
      "9      en\n",
      "10     en\n",
      "11     en\n",
      "12     en\n",
      "13     en\n",
      "14     en\n",
      "15     en\n",
      "16     en\n",
      "17     en\n",
      "18     en\n",
      "19     en\n",
      "20    und\n",
      "21     en\n",
      "22     en\n",
      "23     en\n",
      "24     en\n",
      "25     en\n",
      "26     en\n",
      "27     en\n",
      "28     en\n",
      "29    und\n",
      "     ... \n",
      "70     en\n",
      "71     en\n",
      "72     en\n",
      "73     en\n",
      "74     en\n",
      "75     en\n",
      "76     en\n",
      "77     en\n",
      "78     en\n",
      "79     en\n",
      "80     en\n",
      "81     en\n",
      "82     en\n",
      "83     en\n",
      "84     en\n",
      "85     en\n",
      "86     en\n",
      "87     en\n",
      "88     en\n",
      "89     en\n",
      "90     en\n",
      "91     en\n",
      "92     en\n",
      "93     en\n",
      "94     en\n",
      "95     en\n",
      "96     en\n",
      "97     en\n",
      "98     en\n",
      "99     en\n",
      "Name: lang, Length: 100, dtype: object\n"
     ]
    }
   ],
   "source": [
    "# Import pandas\n",
    "import pandas as pd\n",
    "\n",
    "# Import Twitter data as DataFrame: df\n",
    "tweets_df = pd.read_csv('tweets.csv')\n",
    "\n",
    "\n",
    "col = tweets_df['lang']\n",
    "print(col)"
   ]
  },
  {
   "cell_type": "code",
   "execution_count": null,
   "metadata": {},
   "outputs": [],
   "source": []
  }
 ],
 "metadata": {
  "kernelspec": {
   "display_name": "Python 3",
   "language": "python",
   "name": "python3"
  },
  "language_info": {
   "codemirror_mode": {
    "name": "ipython",
    "version": 3
   },
   "file_extension": ".py",
   "mimetype": "text/x-python",
   "name": "python",
   "nbconvert_exporter": "python",
   "pygments_lexer": "ipython3",
   "version": "3.7.0"
  },
  "latex_envs": {
   "LaTeX_envs_menu_present": true,
   "autoclose": false,
   "autocomplete": true,
   "bibliofile": "biblio.bib",
   "cite_by": "apalike",
   "current_citInitial": 1,
   "eqLabelWithNumbers": true,
   "eqNumInitial": 1,
   "hotkeys": {
    "equation": "Ctrl-E",
    "itemize": "Ctrl-I"
   },
   "labels_anchors": false,
   "latex_user_defs": false,
   "report_style_numbering": false,
   "user_envs_cfg": false
  }
 },
 "nbformat": 4,
 "nbformat_minor": 2
}
